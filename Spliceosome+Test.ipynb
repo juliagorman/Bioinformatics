{
 "cells": [
  {
   "cell_type": "markdown",
   "metadata": {},
   "source": [
    "# SPLICEOSOME TEST \n",
    "\n",
    "Written in Python for class"
   ]
  },
  {
   "cell_type": "code",
   "execution_count": 4,
   "metadata": {},
   "outputs": [
    {
     "name": "stdout",
     "output_type": "stream",
     "text": [
      "This is the end of findGTpos\n"
     ]
    }
   ],
   "source": [
    "                                                                                 \n",
    "\n",
    "def findGTpos(rna):\n",
    "    ''' find the positions of the first GT, return it'''\n",
    "    lengthRNA=len(rna)\n",
    "    positions=range(lengthRNA)\n",
    "    for i in positions:\n",
    "        if rna[i:i+2]=='GT':\n",
    "            return i\n",
    "        if i==positions[-1]: #at end                                                                            \n",
    "            return 'end'\n",
    "print ('This is the end of findGTpos')\n",
    "\n",
    "\n",
    "def findAGpos(rna):\n",
    "    ''' find the positions of the first GT, return it'''\n",
    "    lengthRNA=len(rna)\n",
    "    positions=range(lengthRNA)\n",
    "    for i in positions:\n",
    "        if rna[i:i+2]=='AG':\n",
    "            return i\n",
    "        if i==positions[-1]: #at end                                                                            \n",
    "            return 'end'\n",
    "\n",
    "def cutRNA(rna,gtpos,atpos):\n",
    "    '''takes and rna and gt and at positions, cuts it, reglues, and returns result'''\n",
    "    cutRNA=rna[0:gtpos]+rna[atpos+2:] #glue left of intron to right of intron                                   \n",
    "    return cutRNA\n",
    "\n",
    "def splicesome(rna):\n",
    "    '''calls the three functions above, splicing'''\n",
    "    for base in rna:  #searches the whole rna in a loop                                                         \n",
    "        gtpos=findGTpos(rna)  #calls the findGTpos function, which returns a number                             \n",
    "        agpos=findAGpos(rna)  #calls the findAGpos function, which returns a number                             \n",
    "        if (gtpos=='end') or (agpos=='end'):  #if you have hit the end with either of the above..               \n",
    "            return rna                        #    ...you are done just send back the function                  \n",
    "\n",
    "        rna=cutRNA(rna,gtpos,agpos)   #if not, proceed, and splice the rna                                      \n"
   ]
  },
  {
   "cell_type": "markdown",
   "metadata": {},
   "source": [
    "Test Code"
   ]
  },
  {
   "cell_type": "code",
   "execution_count": 3,
   "metadata": {},
   "outputs": [
    {
     "name": "stdout",
     "output_type": "stream",
     "text": [
      "GT is at 5\n",
      "exon1GTintron1AGexon2GTintron2AGexon3\n",
      "The RNA run through splicesosome is exon1exon2exon3\n"
     ]
    }
   ],
   "source": [
    "                                                                                                 \n",
    "rna='exon1GTintron1AGexon2GTintron2AGexon3'\n",
    "\n",
    "print (\"GT is at\", findGTpos(rna))                                                                               \n",
    "#print \"AG is at\", findAGpos(rna)                                                                               \n",
    "#print \"cutRNA is\", cutRNA(rna,findGTpos(rna), findAGpos(rna))                                                  \n",
    "print (rna)\n",
    "print (\"The RNA run through splicesosome is\", splicesome(rna))"
   ]
  },
  {
   "cell_type": "code",
   "execution_count": null,
   "metadata": {
    "collapsed": true
   },
   "outputs": [],
   "source": []
  }
 ],
 "metadata": {
  "kernelspec": {
   "display_name": "Python 3",
   "language": "python",
   "name": "python3"
  },
  "language_info": {
   "codemirror_mode": {
    "name": "ipython",
    "version": 3
   },
   "file_extension": ".py",
   "mimetype": "text/x-python",
   "name": "python",
   "nbconvert_exporter": "python",
   "pygments_lexer": "ipython3",
   "version": "3.6.2"
  }
 },
 "nbformat": 4,
 "nbformat_minor": 2
}
